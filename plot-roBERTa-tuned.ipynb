{
 "cells": [
  {
   "cell_type": "code",
   "execution_count": 21,
   "id": "3fca1b86-9a95-4781-b008-f1a0d5f1af51",
   "metadata": {
    "metadata": {}
   },
   "outputs": [],
   "source": [
    "import os\n",
    "import numpy as np\n",
    "import pandas as pd\n",
    "\n",
    "from itertools import product\n",
    "from collections import defaultdict\n",
    "\n",
    "import itertools\n",
    "\n",
    "import mlflow\n",
    "from mlflow import MlflowClient\n",
    "from mlflow.entities import ViewType\n",
    "\n",
    "import matplotlib.pyplot as plt\n",
    "import matplotlib.colors as mcolors\n",
    "from matplotlib import cm\n",
    "\n",
    "import mpl_toolkits.axisartist as axisartist\n",
    "# import matplotlib as mpl\n",
    "from mpl_toolkits.axes_grid1.inset_locator import inset_axes\n",
    "\n",
    "import matplotlib\n",
    "from matplotlib.gridspec import GridSpec\n",
    "from matplotlib.ticker import StrMethodFormatter\n",
    "import matplotlib.ticker as mtick\n",
    "from matplotlib.colors import PowerNorm\n",
    "\n",
    "from matplotlib.colors import ListedColormap\n",
    "\n",
    "# %matplotlib widget\n",
    "%matplotlib inline\n",
    "\n",
    "os.environ['MLFLOW_ENABLE_ARTIFACTS_PROGRESS_BAR'] = 'False'\n",
    "matplotlib.rcParams['font.family'] = 'monospace'"
   ]
  },
  {
   "cell_type": "code",
   "execution_count": 22,
   "id": "abd88284-0398-447a-a681-46b19df8927a",
   "metadata": {
    "metadata": {},
    "tags": []
   },
   "outputs": [
    {
     "name": "stdout",
     "output_type": "stream",
     "text": [
      "mkdir: cannot create directory ‘figures’: File exists\n"
     ]
    }
   ],
   "source": [
    "!mkdir figures"
   ]
  },
  {
   "cell_type": "code",
   "execution_count": 23,
   "id": "ec8b9fbd-e19f-469d-94e0-f9bd7214f999",
   "metadata": {
    "metadata": {}
   },
   "outputs": [],
   "source": [
    "class FirstElementHashable(tuple):\n",
    "    def __eq__(self, comp):\n",
    "        return self[0] == comp[0]\n",
    "\n",
    "    def __ne__(self, comp):\n",
    "        return self[0] != comp[0]\n",
    "\n",
    "    def __hash__(self):\n",
    "        return hash((self[0],))\n",
    "\n",
    "class HashableDict(dict):\n",
    "    def __eq__(self, comp):\n",
    "        return self['id'] == comp['id']\n",
    "\n",
    "    def __ne__(self, comp):\n",
    "        return self['id'] != comp['id']\n",
    "\n",
    "    def __hash__(self):\n",
    "        return hash(self['id'])\n",
    "\n",
    "def params_dict_to_string(d):\n",
    "    st = list()\n",
    "    for k, v in d.items():\n",
    "        if isinstance(v, str):\n",
    "            # v = eval(v)\n",
    "            # st.append(f\"{k}={v['name']}\")\n",
    "            st.append(f\"{k}={v}\")\n",
    "        elif isinstance(v, dict):\n",
    "            st.append(f\"{k}={v['name']}\")\n",
    "        else:\n",
    "            if k[-1] == \"_\":\n",
    "                k = k[:-1]\n",
    "            v = str(v)#.replace('{', '(').replace('}', ')')\n",
    "            st.append(f\"{k}={v}\")\n",
    "\n",
    "    st = ' '.join(st)\n",
    "    st = st.replace('_', '')\n",
    "    return st\n",
    "\n",
    "\n",
    "def title_from_dict(d):\n",
    "    st = list()\n",
    "    for k, v in d.items():\n",
    "        # if k not in ya_keys:\n",
    "        #     continue\n",
    "\n",
    "        # if k[-1] == '_':\n",
    "        #     k = k[:-1]\n",
    "\n",
    "        if isinstance(v, str):\n",
    "            v = eval(v)\n",
    "            st.append(f\"{k}={v['name']}\")\n",
    "        elif isinstance(v, dict):\n",
    "            st.append(f\"{k}={v['name']}\")\n",
    "        elif isinstance(v, set):\n",
    "            # print(v)\n",
    "            for i in v:\n",
    "                if i is not None:\n",
    "                    break\n",
    "            # v = str(i).replace('{', '(').replace('}', ')')\n",
    "            st.append(f\"{k}={i}\")\n",
    "        else:\n",
    "            st.append(f\"{k}={str(v)}\")\n",
    "\n",
    "    st = ' '.join(st)\n",
    "    st = st.replace('_', '')\n",
    "    return st"
   ]
  },
  {
   "cell_type": "code",
   "execution_count": 24,
   "id": "68b96805-056a-4c0d-bd64-0f2a7aef84fd",
   "metadata": {
    "metadata": {}
   },
   "outputs": [],
   "source": [
    "tracking_uri = os.path.expanduser('~/mlruns/')\n",
    "experiment_name = os.path.basename(os.getcwd())\n",
    "# experiment_name = 'GPU'"
   ]
  },
  {
   "cell_type": "code",
   "execution_count": 25,
   "id": "aeee6a92-3416-40af-bef3-274fe9492669",
   "metadata": {
    "metadata": {}
   },
   "outputs": [],
   "source": [
    "colors=['red', 'blue', 'y', 'purple']\n",
    "markers = ['>', 'o', 'd', 'D', '*']\n",
    "linestyles = [\n",
    "     ('solid',                 (0, ())),      # Same as (0, ())\n",
    "     # ('loosely dotted',        (0, (1, 2))),\n",
    "     ('dotted',                (0, (1, 1))),\n",
    "     #('densely dotted',        (0, (1, 1))),\n",
    "     #('long dash with offset', (5, (10, 3))),\n",
    "     #('loosely dashed',        (0, (5, 10))),\n",
    "     ('dashed',                (0, (3, 3))),\n",
    "     # ('densely dashed',        (0, (5, 1))),\n",
    "\n",
    "     # ('loosely dashdotted',    (0, (3, 10, 1, 10))),\n",
    "     ('dashdotted',            (0, (4, 2, 1, 2))),\n",
    "     # ('densely dashdotted',    (0, (3, 1, 1, 1))),\n",
    "\n",
    "     ('dashdotdotted',         (0, (4, 4, 1, 4, 1, 4))),\n",
    "     # ('loosely dashdotdotted', (0, (3, 10, 1, 10, 1, 10))),\n",
    "     ('densely dashdotdotted', (0, (3, 1, 1, 1, 1, 1)))]"
   ]
  },
  {
   "cell_type": "code",
   "execution_count": 26,
   "id": "a840c81c-6348-46ed-bab3-c69e80e04b3a",
   "metadata": {
    "metadata": {},
    "tags": []
   },
   "outputs": [
    {
     "data": {
      "text/plain": [
       "{\"{'train_path': 'train', 'val_path': 'test', 'test_path': 'test', 'batch_size': 64, 'warmup_steps': 100, 'epochs': 10, 'accumulate_grad_batches': 1}\"}"
      ]
     },
     "execution_count": 26,
     "metadata": {},
     "output_type": "execute_result"
    }
   ],
   "source": [
    "query = None\n",
    "query = 'tags.\"about\" = \"tuned\"'\n",
    "\n",
    "if query is None:\n",
    "    raise ValueError('Uncomment one of the above lines to plot corresponding experiments')\n",
    "\n",
    "label_keys = ['optimizer', 'eps']\n",
    "label_keys = ['lr']\n",
    "same_plot = ['nepochs', 'seed']  # , 'mdlr_'\n",
    "# ya_keys = ['beta1_, beta2_, eta_']\n",
    "ya_keys = []\n",
    "\n",
    "client = MlflowClient(tracking_uri=tracking_uri)\n",
    "e = client.get_experiment_by_name(experiment_name)\n",
    "runs = client.search_runs(experiment_ids=[e.experiment_id],\n",
    "                          # filter_string=query,\n",
    "                          filter_string=query,\n",
    "                          run_view_type=ViewType.ACTIVE_ONLY)\n",
    "configs = list()\n",
    "ya_keys_set = set()  # contains parameters which can be None for some runs\n",
    "id_lookup_set = set()\n",
    "for r in runs:\n",
    "    config = mlflow.artifacts.load_dict(r.info.artifact_uri+'/config.json', )\n",
    "    configs.append(config)\n",
    "\n",
    "    for k in config:\n",
    "        v = config[k]\n",
    "        if isinstance(v, dict):\n",
    "            v = HashableDict(v)\n",
    "            config[k] = v\n",
    "            configs[-1][k] = v\n",
    "\n",
    "        if k[-1] == '_' and k not in label_keys and k not in same_plot:\n",
    "            ya_keys_set.add(k)\n",
    "\n",
    "        d = dict()\n",
    "        for k in label_keys: #  or k in same_plot:\n",
    "            d.update({k: v})\n",
    "        id_lookup_set.add(str(d))\n",
    "\n",
    "id_lookup_list = list(id_lookup_set)\n",
    "ya_keys += list(ya_keys_set)\n",
    "ya_keys\n",
    "params_set = set()\n",
    "sparse_configs = list()\n",
    "\n",
    "for i, r in enumerate(runs):\n",
    "    config = configs[i]\n",
    "\n",
    "    sparse_cfg = dict()\n",
    "    for k, v in config.items():\n",
    "        if k in label_keys or k in ya_keys or k in same_plot:\n",
    "            continue\n",
    "        sparse_cfg.update({k: v})\n",
    "    params_set.add(str(sparse_cfg))\n",
    "    sparse_configs.append(sparse_cfg)\n",
    "\n",
    "params_set"
   ]
  },
  {
   "cell_type": "code",
   "execution_count": 27,
   "id": "d528b5bf-f450-4946-9140-e6aa067b9381",
   "metadata": {
    "metadata": {},
    "tags": []
   },
   "outputs": [],
   "source": [
    "params_list = list(params_set)\n",
    "ya_dicts_list = [set() for _ in params_set]\n",
    "for i, r in enumerate(runs):\n",
    "    config = configs[i]\n",
    "    sparse_config = sparse_configs[i]\n",
    "    i = params_list.index(str(sparse_config))\n",
    "\n",
    "    d = dict()\n",
    "    for k in ya_keys:\n",
    "        if k not in same_plot:# and k not in label_keys:\n",
    "            d.update({k: config[k]})\n",
    "    ya_dicts_list[i].add(str(d))"
   ]
  },
  {
   "cell_type": "code",
   "execution_count": 28,
   "id": "11375ecc-92a5-47b5-a7c8-68e76a43d9a9",
   "metadata": {
    "metadata": {},
    "tags": []
   },
   "outputs": [],
   "source": [
    "# dicts = ya_dicts_list[0]\n",
    "\n",
    "# d_out = defaultdict(set)\n",
    "# for d in dicts:\n",
    "#     for k, v in _eval(d).items():\n",
    "#         if v is not None:\n",
    "#             d_out[k].add(v)\n",
    "    "
   ]
  },
  {
   "cell_type": "code",
   "execution_count": 29,
   "id": "ceb59381-505a-48ed-bdf5-61c1718a2c0d",
   "metadata": {
    "metadata": {},
    "tags": []
   },
   "outputs": [],
   "source": [
    "\n",
    "\n",
    "# for i in product_dict(**d_out):\n",
    "#     print(f\"{i=}\")"
   ]
  },
  {
   "cell_type": "code",
   "execution_count": 30,
   "id": "e69bb03d-c0a8-4dca-96b4-db777e801905",
   "metadata": {
    "metadata": {},
    "tags": []
   },
   "outputs": [],
   "source": [
    "def product_dict(**kwargs):\n",
    "    keys = kwargs.keys()\n",
    "    for instance in itertools.product(*kwargs.values()):\n",
    "        yield dict(zip(keys, instance))\n",
    "\n",
    "        \n",
    "def _eval(d):\n",
    "    d = eval(d)\n",
    "    for k in d.keys():\n",
    "        if isinstance(v, str):\n",
    "            d[k] = eval(d[k])\n",
    "    return d"
   ]
  },
  {
   "cell_type": "code",
   "execution_count": 31,
   "id": "d9d869d0-9503-4a4d-b78d-e38960a850f5",
   "metadata": {
    "metadata": {},
    "tags": []
   },
   "outputs": [
    {
     "name": "stdout",
     "output_type": "stream",
     "text": [
      "d.values()=dict_values([])\n",
      "runs_sets_lists[j]=[set(), set()]\n",
      "len(runs_sets_lists)=1\n"
     ]
    }
   ],
   "source": [
    "params_lists = list()\n",
    "for p in params_set:\n",
    "    d = _eval(p)\n",
    "    params_lists.append([d.copy()])\n",
    "\n",
    "runs_sets_lists = [[set()] for _ in params_lists]\n",
    "for j, params_list in enumerate(params_lists):\n",
    "    ya_dicts = [_eval(d) for d in sorted(ya_dicts_list[j])]\n",
    "\n",
    "    ya_sparse = defaultdict(set)\n",
    "    for d in ya_dicts:\n",
    "        for k, v in d.items():\n",
    "            if v is not None:\n",
    "                ya_sparse[k].add(v)\n",
    "\n",
    "\n",
    "    for d in product_dict(**ya_sparse):\n",
    "        print(f\"{d.values()=}\")\n",
    "        # if None in set(d.values()):\n",
    "        #     continue\n",
    "        d.update(params_list[0])\n",
    "        params_list.append(d.copy())\n",
    "        runs_sets_lists[j].append(set())\n",
    "        print(f\"{runs_sets_lists[j]=}\")\n",
    "\n",
    "print(f\"{len(runs_sets_lists)=}\")"
   ]
  },
  {
   "cell_type": "code",
   "execution_count": 32,
   "id": "fceabab1-7d47-4e64-bdce-02593f6ea5da",
   "metadata": {
    "metadata": {},
    "tags": []
   },
   "outputs": [],
   "source": [
    "def params_in_config(params, config, sparse=False):\n",
    "    for k in params:\n",
    "        if k not in ya_keys and config[k] != params[k]:\n",
    "            return False\n",
    "\n",
    "    for k in ya_keys:\n",
    "        if config[k] is not None and ((k in params and config[k] != params[k]) or sparse):\n",
    "            return False\n",
    "    return True\n",
    "\n",
    "sparse_extended = [False for _ in params_lists]\n",
    "for i, r in enumerate(runs):\n",
    "    config = configs[i]\n",
    "\n",
    "    for j, params_list in enumerate(params_lists):\n",
    "        for t, params in enumerate(params_list):\n",
    "            if params_in_config(params_list[t], config, not t):\n",
    "                runs_sets_lists[j][t].add(FirstElementHashable((r, config)))\n",
    "                if t:\n",
    "                    sparse_extended[j] = True"
   ]
  },
  {
   "cell_type": "code",
   "execution_count": 33,
   "id": "e3e4142b-377e-49f3-9234-fae6bb7a703d",
   "metadata": {
    "metadata": {},
    "tags": []
   },
   "outputs": [
    {
     "data": {
      "text/plain": [
       "[True]"
      ]
     },
     "execution_count": 33,
     "metadata": {},
     "output_type": "execute_result"
    }
   ],
   "source": [
    "sparse_extended"
   ]
  },
  {
   "cell_type": "code",
   "execution_count": 34,
   "id": "7074b1df-08aa-4fb5-b394-2bb91466cbae",
   "metadata": {
    "metadata": {},
    "tags": []
   },
   "outputs": [],
   "source": [
    "labels = set()\n",
    "for r in runs:\n",
    "    labels.add(r.info.run_name)\n",
    "\n",
    "lookup_id_dict = {v: i for i, v in enumerate(labels)}\n",
    "\n",
    "def iterate_run_sets():\n",
    "    for j, params_list in enumerate(params_lists):\n",
    "        if sparse_extended[j] is False:\n",
    "            yield params_list[0], runs_sets_lists[j][0]\n",
    "        else:\n",
    "            for i, params in enumerate(params_list):\n",
    "                if i and len(runs_sets_lists[j][i]):\n",
    "                    yield params, runs_sets_lists[j][i].copy().union(runs_sets_lists[j][0].copy())"
   ]
  },
  {
   "cell_type": "code",
   "execution_count": 35,
   "id": "bb454571-7266-42b5-aa26-9a5b51a19b97",
   "metadata": {
    "metadata": {},
    "tags": []
   },
   "outputs": [],
   "source": [
    "from matplotlib import ticker"
   ]
  },
  {
   "cell_type": "code",
   "execution_count": 36,
   "id": "f20ab9ab-185b-452e-853d-1b2fdfb742c5",
   "metadata": {
    "metadata": {},
    "tags": []
   },
   "outputs": [
    {
     "data": {
      "text/plain": [
       "{'Adam': 0, 'KATE': 1}"
      ]
     },
     "execution_count": 36,
     "metadata": {},
     "output_type": "execute_result"
    }
   ],
   "source": [
    "lookup_id_dict"
   ]
  },
  {
   "cell_type": "code",
   "execution_count": 37,
   "id": "2b1bf7aa-7a93-4400-bafc-d1e98f670b46",
   "metadata": {
    "metadata": {},
    "tags": []
   },
   "outputs": [],
   "source": [
    "lookup_id_dict = {'KATE': 0, 'Adam': 1}\n",
    "lookup_id_dict = {'AdaGrad': 0, 'KATEADAM': 3, 'KATE': 1, 'Adam': 2, 'TORCH AdaGrad': 4}"
   ]
  },
  {
   "cell_type": "code",
   "execution_count": 38,
   "id": "0df91143-fbe3-4567-9900-f665226fc470",
   "metadata": {
    "metadata": {},
    "tags": []
   },
   "outputs": [],
   "source": [
    "plt.rcParams[\"legend.handlelength\"] = 5"
   ]
  },
  {
   "cell_type": "code",
   "execution_count": 39,
   "id": "606c843c-c0a6-409b-b709-74894f1ef5ca",
   "metadata": {
    "metadata": {},
    "tags": []
   },
   "outputs": [
    {
     "name": "stdout",
     "output_type": "stream",
     "text": [
      "params={'train_path': 'train', 'val_path': 'test', 'test_path': 'test', 'batch_size': 64, 'warmup_steps': 100, 'epochs': 10, 'accumulate_grad_batches': 1}\n",
      "\n",
      "KATE\n",
      "[<Metric: key='accuracy', step=0, timestamp=1711312147555, value=0.328125>, <Metric: key='accuracy', step=1, timestamp=1711312239481, value=0.92626953125>, <Metric: key='accuracy', step=2, timestamp=1711312351020, value=0.927734375>, <Metric: key='accuracy', step=3, timestamp=1711312500650, value=0.92822265625>, <Metric: key='accuracy', step=4, timestamp=1711312660726, value=0.9296875>, <Metric: key='accuracy', step=5, timestamp=1711312844633, value=0.9306640625>, <Metric: key='accuracy', step=6, timestamp=1711313012631, value=0.93359375>, <Metric: key='accuracy', step=7, timestamp=1711313118533, value=0.9345703125>, <Metric: key='accuracy', step=8, timestamp=1711313242748, value=0.92724609375>, <Metric: key='accuracy', step=9, timestamp=1711313393896, value=0.9326171875>, <Metric: key='accuracy', step=10, timestamp=1711313452028, value=0.9326171875>]\n",
      "Adam\n",
      "[<Metric: key='accuracy', step=0, timestamp=1711374516340, value=0.3046875>, <Metric: key='accuracy', step=1, timestamp=1711374623329, value=0.9169921875>, <Metric: key='accuracy', step=2, timestamp=1711374731209, value=0.92919921875>, <Metric: key='accuracy', step=3, timestamp=1711374837868, value=0.92919921875>, <Metric: key='accuracy', step=4, timestamp=1711374943361, value=0.93310546875>, <Metric: key='accuracy', step=5, timestamp=1711375051163, value=0.93505859375>, <Metric: key='accuracy', step=6, timestamp=1711375156451, value=0.93603515625>, <Metric: key='accuracy', step=7, timestamp=1711375259846, value=0.931640625>, <Metric: key='accuracy', step=8, timestamp=1711375363086, value=0.921875>, <Metric: key='accuracy', step=9, timestamp=1711375468488, value=0.927734375>, <Metric: key='accuracy', step=10, timestamp=1711375572870, value=0.923828125>]\n"
     ]
    },
    {
     "data": {
      "image/png": "[encoded data removed]",
      "text/plain": [
       "<Figure size 600x400 with 1 Axes>"
      ]
     },
     "metadata": {},
     "output_type": "display_data"
    }
   ],
   "source": [
    "beg = 0\n",
    "end = 20000\n",
    "metric_key = 'accuracy'\n",
    "# metric_key = 'test-loss'\n",
    "# metric_key = 'expected-loss'\n",
    "for i, (params, runs) in enumerate(iterate_run_sets()):\n",
    "    print(f\"{params=}\")\n",
    "    print()\n",
    "    # if len(runs) < 3:\n",
    "    #     continue\n",
    "\n",
    "    title = params_dict_to_string(params)\n",
    "    # fig, ax = plt.subplots(figsize=(8, 6))\n",
    "    fig, ax = plt.subplots(figsize=(6, 4))\n",
    "    # fig, ax = plt.subplots(figsize=(4, 3))\n",
    "    for j, (r, config) in enumerate(runs):\n",
    "        label = r.info.run_name\n",
    "        \n",
    "        # if label=='KATE':\n",
    "        #     if config['eps'] > 1e-6:\n",
    "        #         continue\n",
    "                \n",
    "        # if label=='KATE':\n",
    "        #     if config['eps'] in [1e-3, 1e-6]:\n",
    "        #         continue\n",
    "\n",
    "        id = lookup_id_dict[label]\n",
    "        print(label)\n",
    "        label = label\n",
    "        # label = label + r' $\\delta$=' + f\"{config['eps']:.1e}\"\n",
    "        history = client.get_metric_history(run_id=r.info.run_id, key=metric_key)\n",
    "        print(history)\n",
    "        y = np.array([h.value for h in history])\n",
    "        # x = np.array([h.timestamp for h in history])\n",
    "        x = np.array([h.step for h in history])\n",
    "        mask = (x >= beg)*(x <= end)\n",
    "        x, y = x[mask], y[mask]\n",
    "        \n",
    "        \n",
    "        \n",
    "        # if config['eps'] == 1e-4:\n",
    "        #     ls=0\n",
    "        # elif config['eps'] == 1e-6:\n",
    "        #     ls=1\n",
    "        # elif config['eps'] == 1e-8 or config['eps'] == 1e-3:\n",
    "        #     ls=2\n",
    "        # elif config['eps'] == 1e-10 or config['eps'] == 1e-5:\n",
    "        #     ls=3\n",
    "        # print(f\"{config['eps']=}\")\n",
    "        # print(f\"{type(config['eps'])=}\")\n",
    "        # j = id\n",
    "        # j = ls\n",
    "        if label == 'Adam':\n",
    "            label = 'ADAM'\n",
    "        ax.plot(x, y,\n",
    "                alpha=1,\n",
    "                color=colors[id],\n",
    "                marker=markers[id],\n",
    "                markevery=slice(2*j, len(x), 7), markersize=8,\n",
    "                label=label, linewidth=2,\n",
    "                markeredgecolor='white', markeredgewidth=0, linestyle=linestyles[0][1])\n",
    "\n",
    "    # ax.set_title(metric_key + ' ' + title, fontsize=7)\n",
    "    ax.set_title('Emotion+RoBERTa', fontsize=15)\n",
    "    ax.set_yscale('log')\n",
    "    ax.grid(True, which=\"both\", ls='dotted')\n",
    "    loc = ax.yaxis.get_minor_locator()\n",
    "    handles, labels = ax.get_legend_handles_labels()\n",
    "    # [ha.set_linelength(7) for ha in handles ]\n",
    "    labels, handles = zip(*sorted(zip(labels, handles), key=lambda t: t[0], reverse=False))\n",
    "    ax.legend(handles, labels)\n",
    "              # , loc='upper left')\n",
    "    # ax.legend(loc='center right')\n",
    "\n",
    "\n",
    "    ax.set_xlabel('Iterations', fontsize=15)\n",
    "    # ax.set_xscale('log')\n",
    "\n",
    "    ax.set_ylabel('Test accuracy', fontsize=15)\n",
    "\n",
    "#     locmin = matplotlib.ticker.LogLocator(base=10.0, subs=np.arange(2, 10) * .1, numticks=100)\n",
    "#     locmin = matplotlib.ticker.LogLocator(base=10.0, subs=[i/10 for i in range(0,10)], numticks=100)\n",
    "#     ax.yaxis.set_minor_locator(locmin)\n",
    "#     ax.yaxis.set_minor_formatter(matplotlib.ticker.NullFormatter())\n",
    "\n",
    "    # ax.yaxis.set_minor_locator(ticker.NullLocator())\n",
    "    # ax.tick_params(axis='x', which='major', bottom=False)\n",
    "    # ax.set_ylabel(r'Accuracy')\n",
    "    # ax.yaxis.set_major_formatter(mtick.FormatStrFormatter('%.0e')) # 2 decimal places\n",
    "    # ax.yaxis.set_minor_formatter(mtick.FormatStrFormatter('%.0e')) # 2 decimal places\n",
    "\n",
    "    # formatter = mtick.ScalarFormatter()\n",
    "    # formatter.set_scientific(True)\n",
    "    # ax.yaxis.set_minor_formatter(formatter)\n",
    "    # ax.yaxis.set_major_formatter(formatter)\n",
    "    # ax.ticklabel_format(axis=\"y\", style=\"sci\", scilimits=(.1,.1))\n",
    "\n",
    "    name = metric_key + ' ' + title\n",
    "    plt.savefig('figures/'+ name +'.pdf', bbox_inches='tight')\n",
    "    plt.tight_layout()\n",
    "    fig.show()\n",
    "    # break"
   ]
  },
  {
   "cell_type": "code",
   "execution_count": 40,
   "id": "e9ba50ad-ff07-48d1-94e2-74900e38db1a",
   "metadata": {
    "metadata": {}
   },
   "outputs": [
    {
     "data": {
      "image/png": "[encoded data removed]",
      "text/plain": [
       "<Figure size 600x400 with 1 Axes>"
      ]
     },
     "metadata": {},
     "output_type": "display_data"
    }
   ],
   "source": [
    "### beg = 500\n",
    "beg = 0\n",
    "end = 20000\n",
    "metric_key = 'accuracy'\n",
    "# metric_key = 'train-accuracy'\n",
    "for i, (params, runs) in enumerate(iterate_run_sets()):\n",
    "    # if len(runs) < 3:\n",
    "    #     continue\n",
    "    # print(f\"{params=}\")\n",
    "    # print(f\"{i=}\")\n",
    "    # print()\n",
    "\n",
    "    title = params_dict_to_string(params)\n",
    "    # fig, ax = plt.subplots(figsize=(8, 6))\n",
    "    fig, ax = plt.subplots(figsize=(6, 4))\n",
    "    for j, (r, config) in enumerate(runs):\n",
    "        label = r.info.run_name\n",
    "        # if label=='KATE':\n",
    "        #     if config['eps'] > 1e-6:\n",
    "        #         continue\n",
    "                \n",
    "        # if label=='KATE':\n",
    "        #     if config['eps'] in [1e-3, 1e-6]:\n",
    "        #         pass\n",
    "        #         continue\n",
    "                \n",
    "        id = lookup_id_dict[label]\n",
    "        # label = label + r' $\\Delta$=' + f\"{config['eps']:.1e}\"\n",
    "        label = label\n",
    "        history = client.get_metric_history(run_id=r.info.run_id, key=metric_key)\n",
    "        y = np.array([h.value for h in history])\n",
    "        # x = np.array([h.timestamp for h in history])\n",
    "        x = np.array([h.step for h in history])\n",
    "        mask = (x >= beg)*(x <= end)\n",
    "        x, y = x[mask], y[mask]\n",
    "        # if config['eps'] == 1e-4:\n",
    "        #     ls=0\n",
    "        # elif config['eps'] == 1e-6:\n",
    "        #     ls=1\n",
    "        # elif config['eps'] == 1e-8 or config['eps'] == 1e-3:\n",
    "        #     ls=2\n",
    "        # elif config['eps'] == 1e-10 or config['eps'] == 1e-5:\n",
    "        #     ls=3\n",
    "        j = id\n",
    "        ls=0\n",
    "        if label == 'Adam':\n",
    "            label = 'ADAM'\n",
    "        ax.plot(x, y*100,\n",
    "                alpha=1,\n",
    "                color=colors[id],\n",
    "                marker=markers[id],\n",
    "                markevery=slice(2*j, len(x), 7), markersize=8,\n",
    "                label=label, linewidth=2,\n",
    "                markeredgecolor='white', markeredgewidth=0, linestyle=linestyles[0][1])\n",
    "\n",
    "    # ax.set_title(metric_key + ' ' + title, fontsize=7)\n",
    "    ax.set_title('Emotion+RoBERTa', fontsize=15)\n",
    "    # ax.set_yscale('log')\n",
    "    ax.grid(True, which=\"both\", ls='dotted')\n",
    "    handles, labels = ax.get_legend_handles_labels()\n",
    "    labels, handles = zip(*sorted(zip(labels, handles), key=lambda t: t[0], reverse=False))\n",
    "    # if params['eta_'] == 0:\n",
    "    #     ax.legend(handles, labels, loc='lower right')\n",
    "    ax.legend(handles, labels, loc='lower right')\n",
    "    # ax.legend(loc='center right')\n",
    "\n",
    "    ax.set_xlabel('Epochs', fontsize=15)\n",
    "    # ax.set_xscale('log')\n",
    "\n",
    "    ax.set_ylabel('Test accuracy', fontsize=15)\n",
    "    # ax.set_yscale('log')\n",
    "    # ax.set_ylabel(r'Accuracy')\n",
    "    # plt.gca().invert_yaxis()\n",
    "    # ax.set_ylim(bottom=0.6)#, top=1)#, *, emit=True, auto=False, ymin=None, ymax=None)\n",
    "    # ax.set_ylim(bottom=None, top=None, *, emit=True, auto=False, ymin=None, ymax=None)\n",
    "    # ax.yaxis.set_major_formatte,r(mtick.FormatStrFormatter('%.0e')) # 2 decimal places\n",
    "    # ax.yaxis.set_minor_formatter(mtick.FormatStrFormatter('%.2e')) # 2 decimal places\n",
    "    # formatter = mtick.ScalarFormatter()\n",
    "    # formatter.set_scientific(True)\n",
    "    # ax.yaxis.set_minor_formatter(formatter)\n",
    "    # ax.yaxis.set_major_formatter(formatter)\n",
    "    # ax.ticklabel_format(axis=\"y\", style=\"sci\", scilimits=(1e-2,1e-2))\n",
    "\n",
    "    name = metric_key + ' ' + title\n",
    "    plt.savefig('figures/'+ name +'.pdf', bbox_inches='tight')\n",
    "    plt.tight_layout()\n",
    "    fig.show()"
   ]
  },
  {
   "cell_type": "code",
   "execution_count": null,
   "id": "2b46e161-3b95-4f74-ab5a-742531dac780",
   "metadata": {},
   "outputs": [],
   "source": []
  }
 ],
 "metadata": {
  "kernelspec": {
   "display_name": "Python 3 (ipykernel)",
   "language": "python",
   "name": "python3"
  },
  "language_info": {
   "codemirror_mode": {
    "name": "ipython",
    "version": 3
   },
   "file_extension": ".py",
   "mimetype": "text/x-python",
   "name": "python",
   "nbconvert_exporter": "python",
   "pygments_lexer": "ipython3",
   "version": "3.11.5"
  },
  "widgets": {
   "application/vnd.jupyter.widget-state+json": {
    "state": {},
    "version_major": 2,
    "version_minor": 0
   }
  }
 },
 "nbformat": 4,
 "nbformat_minor": 5
}
