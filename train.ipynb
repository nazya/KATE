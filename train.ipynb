{
 "cells": [
  {
   "cell_type": "code",
   "execution_count": null,
   "id": "3ea397aa",
   "metadata": {
    "tags": []
   },
   "outputs": [],
   "source": [
    "import os\n",
    "import itertools\n",
    "from attrs import define\n",
    "# from code.train import train\n",
    "from codes.train import train\n",
    "from codes.optimizers import Optimizer\n",
    "# from code.problems import Problem\n",
    "from codes import Loss, Scheduler\n",
    "from codes.datasets import Dataset\n",
    "from codes.models import Model\n",
    "\n",
    "# %matplotlib widget\n",
    "%load_ext autoreload\n",
    "%autoreload 2"
   ]
  },
  {
   "cell_type": "code",
   "execution_count": 2,
   "id": "e9b5d8cd-078e-4292-97c9-0c7a02c57fbd",
   "metadata": {
    "tags": []
   },
   "outputs": [],
   "source": [
    "def zip_dict(**kwargs):\n",
    "    keys = kwargs.keys()\n",
    "    for instance in zip(*kwargs.values()):\n",
    "        yield dict(zip(keys, instance))\n",
    "\n",
    "\n",
    "def product_dict(**kwargs):\n",
    "    keys = kwargs.keys()\n",
    "    for instance in itertools.product(*kwargs.values()):\n",
    "        yield dict(zip(keys, instance))"
   ]
  },
  {
   "cell_type": "code",
   "execution_count": 3,
   "id": "fbb69728-dca1-4d11-a498-69874930542c",
   "metadata": {
    "tags": []
   },
   "outputs": [],
   "source": [
    "os.environ[\"MKL_THREADING_LAYER\"] = \"AMD\"\n",
    "os.environ[\"CUDA_DEVICE_ORDER\"] = \"PCI_BUS_ID\"\n",
    "os.environ[\"TORCH_DEVICE\"] = \"cuda\"\n",
    "os.environ[\"CUDA_VISIBLE_DEVICES\"] = \"5\"\n",
    "# os.environ[\"MKL_THREADING_LAYER\"] = \"AMD\"\n",
    "# os.environ[\"CUDA_DEVICE_ORDER\"] = \"PCI_BUS_ID\"\n",
    "# os.environ[\"TORCH_DEVICE\"] = \"cpu\""
   ]
  },
  {
   "cell_type": "code",
   "execution_count": 4,
   "id": "d8d681b5-96b4-41e2-86af-563b88775df7",
   "metadata": {
    "tags": []
   },
   "outputs": [],
   "source": [
    "os.environ['MLFLOW_VERBOSE'] = 'True'\n",
    "# os.environ['MLFLOW_CHECK_EXIST'] = 'False'\n",
    "os.environ['MLFLOW_CHECK_EXIST'] = 'True'\n",
    "os.environ['MLFLOW_EXPERIMENT_NAME'] = os.path.basename(os.getcwd())"
   ]
  },
  {
   "cell_type": "markdown",
   "id": "0b3231a0-b0a5-4ed0-962f-54fa30e513b8",
   "metadata": {},
   "source": [
    "# Comparison with tuned Adam"
   ]
  },
  {
   "cell_type": "code",
   "execution_count": 5,
   "id": "12253b94-8583-49b8-8bc7-205360bb3e91",
   "metadata": {},
   "outputs": [
    {
     "name": "stdout",
     "output_type": "stream",
     "text": [
      "Step 78200: train-loss: 0.06561 train-accuracy: 97.79600 test-loss: 0.32186 test-accuracy: 92.09000\n",
      "CPU times: user 1h 46min 8s, sys: 35min 26s, total: 2h 21min 35s\n",
      "Wall time: 1h 35min 38s\n"
     ]
    }
   ],
   "source": [
    "@define\n",
    "class BaseConfig():\n",
    "    nepochs:         int = 200\n",
    "    seed:            int = None\n",
    "\n",
    "    loss:           Loss = Loss.CrossEntropyLoss\n",
    "    model:         Model = Model.ResNet18\n",
    "    dataset:     Dataset = Dataset.CIFAR10\n",
    "\n",
    "    scheduler: Scheduler = None\n",
    "    decay:         float = None\n",
    "\n",
    "    optimizer: Optimizer = None\n",
    "    weight_decay:  float = 0\n",
    "    batchsize:       int = 128\n",
    "    lr:            float = 3e-4\n",
    "    # lr:            float = 1e-3\n",
    "\n",
    "    eps:           float = 1e-4\n",
    "\n",
    "    beta1_:    float = 0.9\n",
    "    beta2_:    float = 0.999\n",
    "\n",
    "    eta_:       float = None\n",
    "\n",
    "args_grid = dict(\n",
    "    seed=[0],\n",
    "    eta_=[1e-3],\n",
    "    eps=[1e-3],\n",
    "    decay=[0.2],\n",
    ")\n",
    "\n",
    "os.environ['MLFLOW_RUN_TAGS'] = str(dict(about=f'cutout aug'))\n",
    "\n",
    "for d in product_dict(**args_grid):\n",
    "\n",
    "    AdaGrad\n",
    "    config = BaseConfig(**d)\n",
    "    config.optimizer = None\n",
    "    config.beta1_ = None\n",
    "    config.beta2_ = None\n",
    "    config.eta_ = None\n",
    "    os.environ['MLFLOW_RUN_NAME'] = 'AdaGrad'\n",
    "    %time train(config)\n",
    "\n",
    "    config = BaseConfig(**d)\n",
    "    config.optimizer = Optimizer.ADAM\n",
    "    config.eta_ = None\n",
    "    config.eps = 1e-4\n",
    "    os.environ['MLFLOW_RUN_NAME'] = str(config.optimizer)\n",
    "    %time train(config)\n",
    "\n",
    "    config = BaseConfig(**d)\n",
    "    config.optimizer = Optimizer.KATE\n",
    "    config.beta1_ = None\n",
    "    config.beta2_ = None\n",
    "    os.environ['MLFLOW_RUN_NAME'] = str(config.optimizer)\n",
    "    %time train(config)"
   ]
  },
  {
   "cell_type": "markdown",
   "id": "6563a0e6-5394-4956-ac72-fef9058294cf",
   "metadata": {},
   "source": [
    "# CIFAR10"
   ]
  },
  {
   "cell_type": "code",
   "execution_count": null,
   "id": "279ed62f-ca45-4fa5-9391-85be3895f436",
   "metadata": {
    "tags": []
   },
   "outputs": [],
   "source": [
    "@define\n",
    "class BaseConfig():\n",
    "    nepochs:         int = 50\n",
    "    seed:            int = None\n",
    "\n",
    "    loss:           Loss = Loss.CrossEntropyLoss\n",
    "    model:         Model = Model.ResNet18\n",
    "    dataset:     Dataset = Dataset.CIFAR10\n",
    "\n",
    "    optimizer: Optimizer = None\n",
    "    batchsize:       int = 500\n",
    "    lr:            float = 1e-5\n",
    "\n",
    "    eps:           float = 1e-4\n",
    "\n",
    "    beta1_:    float = 0.9\n",
    "    beta2_:    float = 0.999\n",
    "\n",
    "    eta_:       float = None\n",
    "    \n",
    "args_grid = dict(\n",
    "    seed=[0],\n",
    "    eta_=[1e-3, 1e-1, 0],\n",
    "    eps=[1e-4, 1e-6, 1e-8, 1e-10],\n",
    ")\n",
    "\n",
    "os.environ['MLFLOW_RUN_TAGS'] = str(dict(about=f'full dataset'))\n",
    "\n",
    "for d in product_dict(**args_grid):\n",
    "\n",
    "    config = BaseConfig(**d)\n",
    "    config.optimizer = None\n",
    "    config.beta1_ = None\n",
    "    config.beta2_ = None\n",
    "    config.eta_ = None\n",
    "    os.environ['MLFLOW_RUN_NAME'] = 'AdaGrad'\n",
    "    %time train(config)\n",
    "\n",
    "    config = BaseConfig(**d)\n",
    "    config.optimizer = Optimizer.ADAM\n",
    "    config.eta_ = None\n",
    "    os.environ['MLFLOW_RUN_NAME'] = str(config.optimizer)\n",
    "    %time train(config)\n",
    "\n",
    "    config = BaseConfig(**d)\n",
    "    config.optimizer = Optimizer.KATE\n",
    "    config.beta1_ = None\n",
    "    config.beta2_ = None\n",
    "    os.environ['MLFLOW_RUN_NAME'] = str(config.optimizer)\n",
    "    %time train(config)"
   ]
  },
  {
   "cell_type": "markdown",
   "id": "46709223-8299-4862-b635-291cddf76c5d",
   "metadata": {},
   "source": [
    "# Emotion"
   ]
  },
  {
   "cell_type": "code",
   "execution_count": null,
   "id": "9465e9ec-6150-40f7-af5f-bfbf63d313ed",
   "metadata": {
    "tags": []
   },
   "outputs": [],
   "source": [
    "@define\n",
    "class BaseConfig():\n",
    "    nepochs:         int = 20\n",
    "    seed:            int = None\n",
    "\n",
    "    loss:           Loss = Loss.CrossEntropyLoss\n",
    "    model:         Model = Model.BERT\n",
    "    dataset:     Dataset = Dataset.Emotion\n",
    "\n",
    "    optimizer: Optimizer = None\n",
    "    batchsize:       int = 160\n",
    "    lr:            float = 1e-5\n",
    "\n",
    "    eps:           float = 1e-4\n",
    "\n",
    "    beta1_:    float = 0.9\n",
    "    beta2_:    float = 0.999\n",
    "\n",
    "    eta_:       float = None\n",
    "    \n",
    "    \n",
    "args_grid = dict(\n",
    "    seed=[0],\n",
    "    eta_=[1e-3, 1e-1, 0],\n",
    "    eps=[1e-4, 1e-6, 1e-8, 1e-10], #for adam and adagrad\n",
    "    # eps=[1e-3, 1e-4, 1e-5, 1e-6], #for kate\n",
    ")\n",
    "\n",
    "os.environ['MLFLOW_RUN_TAGS'] = str(dict(about=f'full dataset'))\n",
    "\n",
    "for d in product_dict(**args_grid):\n",
    "\n",
    "#     config = BaseConfig(**d)\n",
    "#     config.optimizer = None\n",
    "#     config.beta1_ = None\n",
    "#     config.beta2_ = None\n",
    "#     config.eta_ = None\n",
    "#     os.environ['MLFLOW_RUN_NAME'] = 'AdaGrad'\n",
    "#     %time train(config)\n",
    "\n",
    "    config = BaseConfig(**d)\n",
    "    config.optimizer = Optimizer.ADAM\n",
    "    config.eta_ = None\n",
    "    os.environ['MLFLOW_RUN_NAME'] = str(config.optimizer)\n",
    "    %time train(config)\n",
    "\n",
    "    # config = BaseConfig(**d)\n",
    "    # config.optimizer = Optimizer.KATE\n",
    "    # # config.eps = 1e-4\n",
    "    # config.beta1_ = None\n",
    "    # config.beta2_ = None\n",
    "    # os.environ['MLFLOW_RUN_NAME'] = str(config.optimizer)\n",
    "    # %time train(config)"
   ]
  },
  {
   "cell_type": "code",
   "execution_count": null,
   "id": "e6fbdf45-2895-484f-9f43-6277729657d2",
   "metadata": {},
   "outputs": [],
   "source": []
  },
  {
   "cell_type": "code",
   "execution_count": null,
   "id": "5ef36146-3711-4ee6-8e06-2e0a36550ecd",
   "metadata": {},
   "outputs": [],
   "source": []
  },
  {
   "cell_type": "code",
   "execution_count": null,
   "id": "42054316-2b06-4b8c-98b0-dac65b172f15",
   "metadata": {},
   "outputs": [],
   "source": []
  }
 ],
 "metadata": {
  "kernelspec": {
   "display_name": "Python 3 (ipykernel)",
   "language": "python",
   "name": "python3"
  },
  "language_info": {
   "codemirror_mode": {
    "name": "ipython",
    "version": 3
   },
   "file_extension": ".py",
   "mimetype": "text/x-python",
   "name": "python",
   "nbconvert_exporter": "python",
   "pygments_lexer": "ipython3",
   "version": "3.11.5"
  },
  "toc-autonumbering": true,
  "toc-showcode": true,
  "vscode": {
   "interpreter": {
    "hash": "18f7a5ae47153a9b42c5447ccb1bbe68959e117ab7750209e163c7c253c9e013"
   }
  },
  "widgets": {
   "application/vnd.jupyter.widget-state+json": {
    "state": {},
    "version_major": 2,
    "version_minor": 0
   }
  }
 },
 "nbformat": 4,
 "nbformat_minor": 5
}
